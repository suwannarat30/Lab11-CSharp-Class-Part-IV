{
 "cells": [
  {
   "cell_type": "markdown",
   "metadata": {
    "dotnet_interactive": {
     "language": "csharp"
    },
    "polyglot_notebook": {
     "kernelName": "csharp"
    }
   },
   "source": [
    "## Lab 11 Constructor"
   ]
  },
  {
   "cell_type": "markdown",
   "metadata": {},
   "source": [
    "## Ex04  Object Initializers"
   ]
  },
  {
   "cell_type": "markdown",
   "metadata": {},
   "source": [
    "Object Initializers เป็นคุณลักษณะใน C# ที่ช่วยให้สามารถกำหนดค่าให้กับ Properties ของออบเจ็กต์ได้ในขณะที่สร้างออบเจ็กต์นั้นๆ ทำให้โค้ดดูสั้นลงและอ่านง่ายขึ้น\n",
    "\n",
    "ที่สำคัญคือไม่ต้องประกาศตามลำดับพารามิเตอร์ ต่อให้จำลำดับไม่ได้ ก็ไม่ต้องกลัว"
   ]
  },
  {
   "cell_type": "markdown",
   "metadata": {},
   "source": [
    "อย่างไรก็ตาม Object Initializers สามารถใช้ได้กับ property ที่มี setter เท่านั้น"
   ]
  },
  {
   "cell_type": "markdown",
   "metadata": {},
   "source": [
    "### รูปแบบการใช้งาน\n"
   ]
  },
  {
   "cell_type": "markdown",
   "metadata": {},
   "source": [
    "```csharp\n",
    "ClassName objectName = new ClassName { Property1 = value1, Property2 = value2, ... };\n",
    "```\n"
   ]
  },
  {
   "cell_type": "markdown",
   "metadata": {},
   "source": [
    "#### ตัวอย่างที่ 1"
   ]
  },
  {
   "cell_type": "code",
   "execution_count": null,
   "metadata": {},
   "outputs": [],
   "source": [
    "public class Person\n",
    "{\n",
    "    public string FirstName { get; set; }\n",
    "    public string LastName { get; set; }\n",
    "    public int Age { get; set; }\n",
    "    public string Address { get; set; }\n",
    "    public Person()\n",
    "    {\n",
    "    }\n",
    "    public Person(string firstname)\n",
    "    {\n",
    "        FirstName = firstname;\n",
    "    }\n",
    "    public override string ToString()\n",
    "    {\n",
    "        string ret = \"Person Info : \" + Environment.NewLine;\n",
    "        ret += \"    Name : \" + FirstName + \" \" + LastName + Environment.NewLine;\n",
    "        ret += \"    Age : \" + Age + Environment.NewLine;\n",
    "        ret += \"    Address : \" + Address + Environment.NewLine;\n",
    "        return ret;\n",
    "    }\n",
    "}"
   ]
  },
  {
   "cell_type": "markdown",
   "metadata": {},
   "source": [
    "#### 1.1 การกำหนดค่า Properties หลายรายการ"
   ]
  },
  {
   "cell_type": "code",
   "execution_count": null,
   "metadata": {},
   "outputs": [
    {
     "name": "stdout",
     "output_type": "stream",
     "text": [
      "Person Info : \r\n",
      "    Name : John Doe\r\n",
      "    Age : 30\r\n",
      "    Address : 123 Main St\r\n",
      "\r\n"
     ]
    }
   ],
   "source": [
    "Person person1 = new Person { FirstName = \"John\", LastName = \"Doe\", Age = 30, Address = \"123 Main St\" };\n",
    "Console.WriteLine(person1);"
   ]
  },
  {
   "cell_type": "markdown",
   "metadata": {},
   "source": [
    "#### 1.2 การกำหนดค่า Property เดียว"
   ]
  },
  {
   "cell_type": "code",
   "execution_count": null,
   "metadata": {},
   "outputs": [
    {
     "name": "stdout",
     "output_type": "stream",
     "text": [
      "Person Info : \r\n",
      "    Name : Jane \r\n",
      "    Age : 0\r\n",
      "    Address : \r\n",
      "\r\n"
     ]
    }
   ],
   "source": [
    "Person person2 = new Person { FirstName = \"Jane\" };\n",
    "Console.WriteLine(person2)"
   ]
  },
  {
   "cell_type": "markdown",
   "metadata": {},
   "source": [
    "#### 1.3 การใช้ร่วมกับ Constructor"
   ]
  },
  {
   "cell_type": "code",
   "execution_count": null,
   "metadata": {},
   "outputs": [
    {
     "name": "stdout",
     "output_type": "stream",
     "text": [
      "Person Info : \r\n",
      "    Name : Peter \r\n",
      "    Age : 25\r\n",
      "    Address : \r\n",
      "\r\n"
     ]
    }
   ],
   "source": [
    "Person person3 = new Person(\"Peter\") { Age = 25 };\n",
    "Console.WriteLine(person3);\n"
   ]
  },
  {
   "cell_type": "markdown",
   "metadata": {},
   "source": [
    "#### 1.4 การใช้กับ Anonymous Types"
   ]
  },
  {
   "cell_type": "code",
   "execution_count": null,
   "metadata": {},
   "outputs": [
    {
     "name": "stdout",
     "output_type": "stream",
     "text": [
      "{ Name = Alice, City = New York }\r\n"
     ]
    }
   ],
   "source": [
    "var person4 = new { Name = \"Alice\", City = \"New York\" };\n",
    "Console.WriteLine(person4.ToString());"
   ]
  },
  {
   "cell_type": "markdown",
   "metadata": {},
   "source": [
    "#### 1.5 การใช้กับ Collection"
   ]
  },
  {
   "cell_type": "code",
   "execution_count": null,
   "metadata": {},
   "outputs": [
    {
     "name": "stdout",
     "output_type": "stream",
     "text": [
      "Person Info : \n",
      "    Name : Bob Smith\n",
      "    Age : 0\n",
      "    Address : \n",
      "\n",
      "Person Info : \n",
      "    Name : Eva Johnson\n",
      "    Age : 0\n",
      "    Address : \n",
      "\n",
      "Person Info : \n",
      "    Name : Adum Johnson\n",
      "    Age : 20\n",
      "    Address : \n",
      "\n"
     ]
    }
   ],
   "source": [
    "List<Person> people = new List<Person>\n",
    "{\n",
    "    new Person { FirstName = \"Bob\", LastName = \"Smith\" },\n",
    "    new Person { FirstName = \"Eva\", LastName = \"Johnson\" },\n",
    "    new Person { FirstName = \"Adum\", LastName = \"Johnson\", Age = 20 }\n",
    "};\n",
    "\n",
    "foreach(Person person in people)\n",
    "{\n",
    "    Console.WriteLine(person);\n",
    "}"
   ]
  },
  {
   "cell_type": "markdown",
   "metadata": {},
   "source": [
    "### 1.6 จาก list ด้านบน เราสามารถนำมาค้นหาคนที่ต้องการโดยใช้  LINQ Queries"
   ]
  },
  {
   "cell_type": "code",
   "execution_count": null,
   "metadata": {},
   "outputs": [
    {
     "name": "stdout",
     "output_type": "stream",
     "text": [
      "People aged 20 and over\n",
      "{ FirstName = Adum, LastName = Johnson }\n"
     ]
    }
   ],
   "source": [
    "var query = people.Where(p => p.Age >= 20).Select(p => new { p.FirstName, p.LastName });\n",
    "Console.WriteLine(\"People aged 20 and over\");\n",
    "foreach(var person in query)\n",
    "{\n",
    "    Console.WriteLine(person);\n",
    "}"
   ]
  }
 ],
 "metadata": {
  "kernelspec": {
   "display_name": ".NET (C#)",
   "language": "C#",
   "name": ".net-csharp"
  },
  "polyglot_notebook": {
   "kernelInfo": {
    "defaultKernelName": "csharp",
    "items": [
     {
      "aliases": [],
      "languageName": "csharp",
      "name": "csharp"
     }
    ]
   }
  }
 },
 "nbformat": 4,
 "nbformat_minor": 2
}
